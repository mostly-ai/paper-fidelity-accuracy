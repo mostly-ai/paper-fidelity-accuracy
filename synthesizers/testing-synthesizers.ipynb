{
 "cells": [
  {
   "cell_type": "markdown",
   "id": "f69dc180-d5e8-47f4-8c1c-448414c8d85e",
   "metadata": {},
   "source": [
    "# Testing Synthesizers\n",
    "\n",
    "SDV APIs have been changed. This notebook tests the code to get them running again."
   ]
  },
  {
   "cell_type": "code",
   "execution_count": 1,
   "id": "cc38a51a-ed05-4664-a331-be1058add4e4",
   "metadata": {
    "tags": []
   },
   "outputs": [
    {
     "name": "stderr",
     "output_type": "stream",
     "text": [
      "/Users/rpelgrim/mambaforge/envs/sdv/lib/python3.10/site-packages/tqdm/auto.py:21: TqdmWarning: IProgress not found. Please update jupyter and ipywidgets. See https://ipywidgets.readthedocs.io/en/stable/user_install.html\n",
      "  from .autonotebook import tqdm as notebook_tqdm\n"
     ]
    }
   ],
   "source": [
    "import pandas as pd\n",
    "import numpy as np\n",
    "import torch\n",
    "\n",
    "from sdv.metadata import SingleTableMetadata"
   ]
  },
  {
   "cell_type": "markdown",
   "id": "128795a0-1d90-484a-9ffb-8f6cb91ae5f8",
   "metadata": {},
   "source": [
    "## CTGAN"
   ]
  },
  {
   "cell_type": "code",
   "execution_count": 3,
   "id": "cb7b0df5-c617-4cc4-9679-f6ed9d8a3bc9",
   "metadata": {
    "tags": []
   },
   "outputs": [],
   "source": [
    "from sdv.single_table import CTGANSynthesizer"
   ]
  },
  {
   "cell_type": "code",
   "execution_count": 25,
   "id": "e5c94a0c-b181-45d1-bf5c-da5a49e96acc",
   "metadata": {
    "tags": []
   },
   "outputs": [
    {
     "data": {
      "text/html": [
       "<div>\n",
       "<style scoped>\n",
       "    .dataframe tbody tr th:only-of-type {\n",
       "        vertical-align: middle;\n",
       "    }\n",
       "\n",
       "    .dataframe tbody tr th {\n",
       "        vertical-align: top;\n",
       "    }\n",
       "\n",
       "    .dataframe thead th {\n",
       "        text-align: right;\n",
       "    }\n",
       "</style>\n",
       "<table border=\"1\" class=\"dataframe\">\n",
       "  <thead>\n",
       "    <tr style=\"text-align: right;\">\n",
       "      <th></th>\n",
       "      <th>age</th>\n",
       "      <th>workclass</th>\n",
       "      <th>fnlwgt</th>\n",
       "      <th>education</th>\n",
       "      <th>education-num</th>\n",
       "      <th>marital-status</th>\n",
       "      <th>occupation</th>\n",
       "      <th>relationship</th>\n",
       "      <th>race</th>\n",
       "      <th>sex</th>\n",
       "      <th>capital-gain</th>\n",
       "      <th>capital-loss</th>\n",
       "      <th>hours-per-week</th>\n",
       "      <th>native-country</th>\n",
       "      <th>income</th>\n",
       "    </tr>\n",
       "  </thead>\n",
       "  <tbody>\n",
       "    <tr>\n",
       "      <th>0</th>\n",
       "      <td>23</td>\n",
       "      <td>Private</td>\n",
       "      <td>161708</td>\n",
       "      <td>Bachelors</td>\n",
       "      <td>13</td>\n",
       "      <td>Never-married</td>\n",
       "      <td>Other-service</td>\n",
       "      <td>Own-child</td>\n",
       "      <td>White</td>\n",
       "      <td>Female</td>\n",
       "      <td>0</td>\n",
       "      <td>0</td>\n",
       "      <td>30</td>\n",
       "      <td>United-States</td>\n",
       "      <td>&lt;=50K</td>\n",
       "    </tr>\n",
       "    <tr>\n",
       "      <th>1</th>\n",
       "      <td>37</td>\n",
       "      <td>Private</td>\n",
       "      <td>114605</td>\n",
       "      <td>HS-grad</td>\n",
       "      <td>9</td>\n",
       "      <td>Married-civ-spouse</td>\n",
       "      <td>Farming-fishing</td>\n",
       "      <td>Husband</td>\n",
       "      <td>White</td>\n",
       "      <td>Male</td>\n",
       "      <td>0</td>\n",
       "      <td>0</td>\n",
       "      <td>40</td>\n",
       "      <td>United-States</td>\n",
       "      <td>&lt;=50K</td>\n",
       "    </tr>\n",
       "    <tr>\n",
       "      <th>2</th>\n",
       "      <td>35</td>\n",
       "      <td>Private</td>\n",
       "      <td>320305</td>\n",
       "      <td>HS-grad</td>\n",
       "      <td>9</td>\n",
       "      <td>Married-civ-spouse</td>\n",
       "      <td>Craft-repair</td>\n",
       "      <td>Husband</td>\n",
       "      <td>White</td>\n",
       "      <td>Male</td>\n",
       "      <td>0</td>\n",
       "      <td>0</td>\n",
       "      <td>32</td>\n",
       "      <td>United-States</td>\n",
       "      <td>&lt;=50K</td>\n",
       "    </tr>\n",
       "    <tr>\n",
       "      <th>3</th>\n",
       "      <td>26</td>\n",
       "      <td>Private</td>\n",
       "      <td>106856</td>\n",
       "      <td>Assoc-voc</td>\n",
       "      <td>11</td>\n",
       "      <td>Never-married</td>\n",
       "      <td>Adm-clerical</td>\n",
       "      <td>Not-in-family</td>\n",
       "      <td>White</td>\n",
       "      <td>Female</td>\n",
       "      <td>0</td>\n",
       "      <td>0</td>\n",
       "      <td>40</td>\n",
       "      <td>United-States</td>\n",
       "      <td>&lt;=50K</td>\n",
       "    </tr>\n",
       "    <tr>\n",
       "      <th>4</th>\n",
       "      <td>43</td>\n",
       "      <td>Local-gov</td>\n",
       "      <td>147328</td>\n",
       "      <td>Masters</td>\n",
       "      <td>14</td>\n",
       "      <td>Married-civ-spouse</td>\n",
       "      <td>Exec-managerial</td>\n",
       "      <td>Husband</td>\n",
       "      <td>White</td>\n",
       "      <td>Male</td>\n",
       "      <td>0</td>\n",
       "      <td>1977</td>\n",
       "      <td>60</td>\n",
       "      <td>United-States</td>\n",
       "      <td>&gt;50K</td>\n",
       "    </tr>\n",
       "  </tbody>\n",
       "</table>\n",
       "</div>"
      ],
      "text/plain": [
       "   age  workclass  fnlwgt  education  education-num      marital-status  \\\n",
       "0   23    Private  161708  Bachelors             13       Never-married   \n",
       "1   37    Private  114605    HS-grad              9  Married-civ-spouse   \n",
       "2   35    Private  320305    HS-grad              9  Married-civ-spouse   \n",
       "3   26    Private  106856  Assoc-voc             11       Never-married   \n",
       "4   43  Local-gov  147328    Masters             14  Married-civ-spouse   \n",
       "\n",
       "        occupation   relationship   race     sex  capital-gain  capital-loss  \\\n",
       "0    Other-service      Own-child  White  Female             0             0   \n",
       "1  Farming-fishing        Husband  White    Male             0             0   \n",
       "2     Craft-repair        Husband  White    Male             0             0   \n",
       "3     Adm-clerical  Not-in-family  White  Female             0             0   \n",
       "4  Exec-managerial        Husband  White    Male             0          1977   \n",
       "\n",
       "   hours-per-week native-country income  \n",
       "0              30  United-States  <=50K  \n",
       "1              40  United-States  <=50K  \n",
       "2              32  United-States  <=50K  \n",
       "3              40  United-States  <=50K  \n",
       "4              60  United-States   >50K  "
      ]
     },
     "execution_count": 25,
     "metadata": {},
     "output_type": "execute_result"
    }
   ],
   "source": [
    "data = pd.read_csv('../data/adult_trn.csv.gz')\n",
    "data.head()"
   ]
  },
  {
   "cell_type": "code",
   "execution_count": 26,
   "id": "125ca30a-8767-4ff2-bd33-22c1f3a6aaa7",
   "metadata": {
    "tags": []
   },
   "outputs": [],
   "source": [
    "# get metadata\n",
    "metadata = SingleTableMetadata()\n",
    "metadata.detect_from_dataframe(data=data)"
   ]
  },
  {
   "cell_type": "code",
   "execution_count": 27,
   "id": "7deb17bd-9d63-4126-8e44-8f10ad322025",
   "metadata": {
    "tags": []
   },
   "outputs": [
    {
     "data": {
      "text/plain": [
       "age                int64\n",
       "workclass         object\n",
       "fnlwgt             int64\n",
       "education         object\n",
       "education-num      int64\n",
       "marital-status    object\n",
       "occupation        object\n",
       "relationship      object\n",
       "race              object\n",
       "sex               object\n",
       "capital-gain       int64\n",
       "capital-loss       int64\n",
       "hours-per-week     int64\n",
       "native-country    object\n",
       "income            object\n",
       "dtype: object"
      ]
     },
     "execution_count": 27,
     "metadata": {},
     "output_type": "execute_result"
    }
   ],
   "source": [
    "data.dtypes"
   ]
  },
  {
   "cell_type": "code",
   "execution_count": 28,
   "id": "30a29370-d8e8-4d44-b216-1f62c1911917",
   "metadata": {
    "tags": []
   },
   "outputs": [
    {
     "data": {
      "text/plain": [
       "{\n",
       "    \"columns\": {\n",
       "        \"age\": {\n",
       "            \"sdtype\": \"numerical\"\n",
       "        },\n",
       "        \"workclass\": {\n",
       "            \"sdtype\": \"categorical\"\n",
       "        },\n",
       "        \"fnlwgt\": {\n",
       "            \"sdtype\": \"numerical\"\n",
       "        },\n",
       "        \"education\": {\n",
       "            \"sdtype\": \"categorical\"\n",
       "        },\n",
       "        \"education-num\": {\n",
       "            \"sdtype\": \"numerical\"\n",
       "        },\n",
       "        \"marital-status\": {\n",
       "            \"sdtype\": \"categorical\"\n",
       "        },\n",
       "        \"occupation\": {\n",
       "            \"sdtype\": \"categorical\"\n",
       "        },\n",
       "        \"relationship\": {\n",
       "            \"sdtype\": \"categorical\"\n",
       "        },\n",
       "        \"race\": {\n",
       "            \"sdtype\": \"categorical\"\n",
       "        },\n",
       "        \"sex\": {\n",
       "            \"sdtype\": \"categorical\"\n",
       "        },\n",
       "        \"capital-gain\": {\n",
       "            \"sdtype\": \"numerical\"\n",
       "        },\n",
       "        \"capital-loss\": {\n",
       "            \"sdtype\": \"numerical\"\n",
       "        },\n",
       "        \"hours-per-week\": {\n",
       "            \"sdtype\": \"numerical\"\n",
       "        },\n",
       "        \"native-country\": {\n",
       "            \"sdtype\": \"categorical\"\n",
       "        },\n",
       "        \"income\": {\n",
       "            \"sdtype\": \"categorical\"\n",
       "        }\n",
       "    },\n",
       "    \"METADATA_SPEC_VERSION\": \"SINGLE_TABLE_V1\"\n",
       "}"
      ]
     },
     "execution_count": 28,
     "metadata": {},
     "output_type": "execute_result"
    }
   ],
   "source": [
    "metadata"
   ]
  },
  {
   "cell_type": "code",
   "execution_count": null,
   "id": "bacdcef3-03b5-4915-a546-99a0961a6945",
   "metadata": {},
   "outputs": [],
   "source": [
    "# this looks OK for all datasets\n",
    "# we could hard-code a check here if we wanted to be absolutely sure"
   ]
  },
  {
   "cell_type": "code",
   "execution_count": 9,
   "id": "eaad51d2-06a4-4a2a-a588-a1b34f0a574f",
   "metadata": {
    "tags": []
   },
   "outputs": [],
   "source": [
    "model = CTGANSynthesizer(metadata)"
   ]
  },
  {
   "cell_type": "code",
   "execution_count": 11,
   "id": "a3586119-d8b2-4f6d-a101-0b6f8b666ffb",
   "metadata": {
    "collapsed": true,
    "jupyter": {
     "outputs_hidden": true
    },
    "tags": []
   },
   "outputs": [
    {
     "ename": "KeyboardInterrupt",
     "evalue": "",
     "output_type": "error",
     "traceback": [
      "\u001b[0;31m---------------------------------------------------------------------------\u001b[0m",
      "\u001b[0;31mKeyboardInterrupt\u001b[0m                         Traceback (most recent call last)",
      "File \u001b[0;32m<timed eval>:1\u001b[0m\n",
      "File \u001b[0;32m~/mambaforge/envs/sdv/lib/python3.10/site-packages/sdv/single_table/base.py:469\u001b[0m, in \u001b[0;36mBaseSynthesizer.fit\u001b[0;34m(self, data)\u001b[0m\n\u001b[1;32m    467\u001b[0m \u001b[38;5;28mself\u001b[39m\u001b[38;5;241m.\u001b[39m_random_state_set \u001b[38;5;241m=\u001b[39m \u001b[38;5;28;01mFalse\u001b[39;00m\n\u001b[1;32m    468\u001b[0m processed_data \u001b[38;5;241m=\u001b[39m \u001b[38;5;28mself\u001b[39m\u001b[38;5;241m.\u001b[39m_preprocess(data)\n\u001b[0;32m--> 469\u001b[0m \u001b[38;5;28;43mself\u001b[39;49m\u001b[38;5;241;43m.\u001b[39;49m\u001b[43mfit_processed_data\u001b[49m\u001b[43m(\u001b[49m\u001b[43mprocessed_data\u001b[49m\u001b[43m)\u001b[49m\n",
      "File \u001b[0;32m~/mambaforge/envs/sdv/lib/python3.10/site-packages/sdv/single_table/base.py:453\u001b[0m, in \u001b[0;36mBaseSynthesizer.fit_processed_data\u001b[0;34m(self, processed_data)\u001b[0m\n\u001b[1;32m    446\u001b[0m \u001b[38;5;28;01mdef\u001b[39;00m \u001b[38;5;21mfit_processed_data\u001b[39m(\u001b[38;5;28mself\u001b[39m, processed_data):\n\u001b[1;32m    447\u001b[0m \u001b[38;5;250m    \u001b[39m\u001b[38;5;124;03m\"\"\"Fit this model to the transformed data.\u001b[39;00m\n\u001b[1;32m    448\u001b[0m \n\u001b[1;32m    449\u001b[0m \u001b[38;5;124;03m    Args:\u001b[39;00m\n\u001b[1;32m    450\u001b[0m \u001b[38;5;124;03m        processed_data (pandas.DataFrame):\u001b[39;00m\n\u001b[1;32m    451\u001b[0m \u001b[38;5;124;03m            The transformed data used to fit the model to.\u001b[39;00m\n\u001b[1;32m    452\u001b[0m \u001b[38;5;124;03m    \"\"\"\u001b[39;00m\n\u001b[0;32m--> 453\u001b[0m     \u001b[38;5;28;43mself\u001b[39;49m\u001b[38;5;241;43m.\u001b[39;49m\u001b[43m_fit\u001b[49m\u001b[43m(\u001b[49m\u001b[43mprocessed_data\u001b[49m\u001b[43m)\u001b[49m\n\u001b[1;32m    454\u001b[0m     \u001b[38;5;28mself\u001b[39m\u001b[38;5;241m.\u001b[39m_fitted \u001b[38;5;241m=\u001b[39m \u001b[38;5;28;01mTrue\u001b[39;00m\n\u001b[1;32m    455\u001b[0m     \u001b[38;5;28mself\u001b[39m\u001b[38;5;241m.\u001b[39m_fitted_date \u001b[38;5;241m=\u001b[39m datetime\u001b[38;5;241m.\u001b[39mdatetime\u001b[38;5;241m.\u001b[39mtoday()\u001b[38;5;241m.\u001b[39mstrftime(\u001b[38;5;124m'\u001b[39m\u001b[38;5;124m%\u001b[39m\u001b[38;5;124mY-\u001b[39m\u001b[38;5;124m%\u001b[39m\u001b[38;5;124mm-\u001b[39m\u001b[38;5;132;01m%d\u001b[39;00m\u001b[38;5;124m'\u001b[39m)\n",
      "File \u001b[0;32m~/mambaforge/envs/sdv/lib/python3.10/site-packages/sdv/single_table/ctgan.py:114\u001b[0m, in \u001b[0;36mCTGANSynthesizer._fit\u001b[0;34m(self, processed_data)\u001b[0m\n\u001b[1;32m    112\u001b[0m discrete_columns \u001b[38;5;241m=\u001b[39m detect_discrete_columns(\u001b[38;5;28mself\u001b[39m\u001b[38;5;241m.\u001b[39mget_metadata(), processed_data)\n\u001b[1;32m    113\u001b[0m \u001b[38;5;28mself\u001b[39m\u001b[38;5;241m.\u001b[39m_model \u001b[38;5;241m=\u001b[39m CTGAN(\u001b[38;5;241m*\u001b[39m\u001b[38;5;241m*\u001b[39m\u001b[38;5;28mself\u001b[39m\u001b[38;5;241m.\u001b[39m_model_kwargs)\n\u001b[0;32m--> 114\u001b[0m \u001b[38;5;28;43mself\u001b[39;49m\u001b[38;5;241;43m.\u001b[39;49m\u001b[43m_model\u001b[49m\u001b[38;5;241;43m.\u001b[39;49m\u001b[43mfit\u001b[49m\u001b[43m(\u001b[49m\u001b[43mprocessed_data\u001b[49m\u001b[43m,\u001b[49m\u001b[43m \u001b[49m\u001b[43mdiscrete_columns\u001b[49m\u001b[38;5;241;43m=\u001b[39;49m\u001b[43mdiscrete_columns\u001b[49m\u001b[43m)\u001b[49m\n",
      "File \u001b[0;32m~/mambaforge/envs/sdv/lib/python3.10/site-packages/ctgan/synthesizers/base.py:50\u001b[0m, in \u001b[0;36mrandom_state.<locals>.wrapper\u001b[0;34m(self, *args, **kwargs)\u001b[0m\n\u001b[1;32m     48\u001b[0m \u001b[38;5;28;01mdef\u001b[39;00m \u001b[38;5;21mwrapper\u001b[39m(\u001b[38;5;28mself\u001b[39m, \u001b[38;5;241m*\u001b[39margs, \u001b[38;5;241m*\u001b[39m\u001b[38;5;241m*\u001b[39mkwargs):\n\u001b[1;32m     49\u001b[0m     \u001b[38;5;28;01mif\u001b[39;00m \u001b[38;5;28mself\u001b[39m\u001b[38;5;241m.\u001b[39mrandom_states \u001b[38;5;129;01mis\u001b[39;00m \u001b[38;5;28;01mNone\u001b[39;00m:\n\u001b[0;32m---> 50\u001b[0m         \u001b[38;5;28;01mreturn\u001b[39;00m \u001b[43mfunction\u001b[49m\u001b[43m(\u001b[49m\u001b[38;5;28;43mself\u001b[39;49m\u001b[43m,\u001b[49m\u001b[43m \u001b[49m\u001b[38;5;241;43m*\u001b[39;49m\u001b[43margs\u001b[49m\u001b[43m,\u001b[49m\u001b[43m \u001b[49m\u001b[38;5;241;43m*\u001b[39;49m\u001b[38;5;241;43m*\u001b[39;49m\u001b[43mkwargs\u001b[49m\u001b[43m)\u001b[49m\n\u001b[1;32m     52\u001b[0m     \u001b[38;5;28;01melse\u001b[39;00m:\n\u001b[1;32m     53\u001b[0m         \u001b[38;5;28;01mwith\u001b[39;00m set_random_states(\u001b[38;5;28mself\u001b[39m\u001b[38;5;241m.\u001b[39mrandom_states, \u001b[38;5;28mself\u001b[39m\u001b[38;5;241m.\u001b[39mset_random_state):\n",
      "File \u001b[0;32m~/mambaforge/envs/sdv/lib/python3.10/site-packages/ctgan/synthesizers/ctgan.py:401\u001b[0m, in \u001b[0;36mCTGAN.fit\u001b[0;34m(self, train_data, discrete_columns, epochs)\u001b[0m\n\u001b[1;32m    398\u001b[0m     fakez \u001b[38;5;241m=\u001b[39m torch\u001b[38;5;241m.\u001b[39mcat([fakez, c1], dim\u001b[38;5;241m=\u001b[39m\u001b[38;5;241m1\u001b[39m)\n\u001b[1;32m    400\u001b[0m fake \u001b[38;5;241m=\u001b[39m \u001b[38;5;28mself\u001b[39m\u001b[38;5;241m.\u001b[39m_generator(fakez)\n\u001b[0;32m--> 401\u001b[0m fakeact \u001b[38;5;241m=\u001b[39m \u001b[38;5;28;43mself\u001b[39;49m\u001b[38;5;241;43m.\u001b[39;49m\u001b[43m_apply_activate\u001b[49m\u001b[43m(\u001b[49m\u001b[43mfake\u001b[49m\u001b[43m)\u001b[49m\n\u001b[1;32m    403\u001b[0m \u001b[38;5;28;01mif\u001b[39;00m c1 \u001b[38;5;129;01mis\u001b[39;00m \u001b[38;5;129;01mnot\u001b[39;00m \u001b[38;5;28;01mNone\u001b[39;00m:\n\u001b[1;32m    404\u001b[0m     y_fake \u001b[38;5;241m=\u001b[39m discriminator(torch\u001b[38;5;241m.\u001b[39mcat([fakeact, c1], dim\u001b[38;5;241m=\u001b[39m\u001b[38;5;241m1\u001b[39m))\n",
      "File \u001b[0;32m~/mambaforge/envs/sdv/lib/python3.10/site-packages/ctgan/synthesizers/ctgan.py:222\u001b[0m, in \u001b[0;36mCTGAN._apply_activate\u001b[0;34m(self, data)\u001b[0m\n\u001b[1;32m    220\u001b[0m \u001b[38;5;28;01melif\u001b[39;00m span_info\u001b[38;5;241m.\u001b[39mactivation_fn \u001b[38;5;241m==\u001b[39m \u001b[38;5;124m'\u001b[39m\u001b[38;5;124msoftmax\u001b[39m\u001b[38;5;124m'\u001b[39m:\n\u001b[1;32m    221\u001b[0m     ed \u001b[38;5;241m=\u001b[39m st \u001b[38;5;241m+\u001b[39m span_info\u001b[38;5;241m.\u001b[39mdim\n\u001b[0;32m--> 222\u001b[0m     transformed \u001b[38;5;241m=\u001b[39m \u001b[38;5;28;43mself\u001b[39;49m\u001b[38;5;241;43m.\u001b[39;49m\u001b[43m_gumbel_softmax\u001b[49m\u001b[43m(\u001b[49m\u001b[43mdata\u001b[49m\u001b[43m[\u001b[49m\u001b[43m:\u001b[49m\u001b[43m,\u001b[49m\u001b[43m \u001b[49m\u001b[43mst\u001b[49m\u001b[43m:\u001b[49m\u001b[43med\u001b[49m\u001b[43m]\u001b[49m\u001b[43m,\u001b[49m\u001b[43m \u001b[49m\u001b[43mtau\u001b[49m\u001b[38;5;241;43m=\u001b[39;49m\u001b[38;5;241;43m0.2\u001b[39;49m\u001b[43m)\u001b[49m\n\u001b[1;32m    223\u001b[0m     data_t\u001b[38;5;241m.\u001b[39mappend(transformed)\n\u001b[1;32m    224\u001b[0m     st \u001b[38;5;241m=\u001b[39m ed\n",
      "File \u001b[0;32m~/mambaforge/envs/sdv/lib/python3.10/site-packages/ctgan/synthesizers/ctgan.py:208\u001b[0m, in \u001b[0;36mCTGAN._gumbel_softmax\u001b[0;34m(logits, tau, hard, eps, dim)\u001b[0m\n\u001b[1;32m    205\u001b[0m             \u001b[38;5;28;01mreturn\u001b[39;00m transformed\n\u001b[1;32m    206\u001b[0m     \u001b[38;5;28;01mraise\u001b[39;00m \u001b[38;5;167;01mValueError\u001b[39;00m(\u001b[38;5;124m'\u001b[39m\u001b[38;5;124mgumbel_softmax returning NaN.\u001b[39m\u001b[38;5;124m'\u001b[39m)\n\u001b[0;32m--> 208\u001b[0m \u001b[38;5;28;01mreturn\u001b[39;00m \u001b[43mfunctional\u001b[49m\u001b[38;5;241;43m.\u001b[39;49m\u001b[43mgumbel_softmax\u001b[49m\u001b[43m(\u001b[49m\u001b[43mlogits\u001b[49m\u001b[43m,\u001b[49m\u001b[43m \u001b[49m\u001b[43mtau\u001b[49m\u001b[38;5;241;43m=\u001b[39;49m\u001b[43mtau\u001b[49m\u001b[43m,\u001b[49m\u001b[43m \u001b[49m\u001b[43mhard\u001b[49m\u001b[38;5;241;43m=\u001b[39;49m\u001b[43mhard\u001b[49m\u001b[43m,\u001b[49m\u001b[43m \u001b[49m\u001b[43meps\u001b[49m\u001b[38;5;241;43m=\u001b[39;49m\u001b[43meps\u001b[49m\u001b[43m,\u001b[49m\u001b[43m \u001b[49m\u001b[43mdim\u001b[49m\u001b[38;5;241;43m=\u001b[39;49m\u001b[43mdim\u001b[49m\u001b[43m)\u001b[49m\n",
      "File \u001b[0;32m~/mambaforge/envs/sdv/lib/python3.10/site-packages/torch/nn/functional.py:1893\u001b[0m, in \u001b[0;36mgumbel_softmax\u001b[0;34m(logits, tau, hard, eps, dim)\u001b[0m\n\u001b[1;32m   1889\u001b[0m \u001b[38;5;28;01mif\u001b[39;00m eps \u001b[38;5;241m!=\u001b[39m \u001b[38;5;241m1e-10\u001b[39m:\n\u001b[1;32m   1890\u001b[0m     warnings\u001b[38;5;241m.\u001b[39mwarn(\u001b[38;5;124m\"\u001b[39m\u001b[38;5;124m`eps` parameter is deprecated and has no effect.\u001b[39m\u001b[38;5;124m\"\u001b[39m)\n\u001b[1;32m   1892\u001b[0m gumbels \u001b[38;5;241m=\u001b[39m (\n\u001b[0;32m-> 1893\u001b[0m     \u001b[38;5;241m-\u001b[39m\u001b[43mtorch\u001b[49m\u001b[38;5;241;43m.\u001b[39;49m\u001b[43mempty_like\u001b[49m\u001b[43m(\u001b[49m\u001b[43mlogits\u001b[49m\u001b[43m,\u001b[49m\u001b[43m \u001b[49m\u001b[43mmemory_format\u001b[49m\u001b[38;5;241;43m=\u001b[39;49m\u001b[43mtorch\u001b[49m\u001b[38;5;241;43m.\u001b[39;49m\u001b[43mlegacy_contiguous_format\u001b[49m\u001b[43m)\u001b[49m\u001b[38;5;241;43m.\u001b[39;49m\u001b[43mexponential_\u001b[49m\u001b[43m(\u001b[49m\u001b[43m)\u001b[49m\u001b[38;5;241m.\u001b[39mlog()\n\u001b[1;32m   1894\u001b[0m )  \u001b[38;5;66;03m# ~Gumbel(0,1)\u001b[39;00m\n\u001b[1;32m   1895\u001b[0m gumbels \u001b[38;5;241m=\u001b[39m (logits \u001b[38;5;241m+\u001b[39m gumbels) \u001b[38;5;241m/\u001b[39m tau  \u001b[38;5;66;03m# ~Gumbel(logits,tau)\u001b[39;00m\n\u001b[1;32m   1896\u001b[0m y_soft \u001b[38;5;241m=\u001b[39m gumbels\u001b[38;5;241m.\u001b[39msoftmax(dim)\n",
      "\u001b[0;31mKeyboardInterrupt\u001b[0m: "
     ]
    }
   ],
   "source": [
    "%%time\n",
    "model.fit(data)"
   ]
  },
  {
   "cell_type": "code",
   "execution_count": null,
   "id": "81a96cad-e12e-4e92-aed6-2c3f547b0b82",
   "metadata": {},
   "outputs": [],
   "source": [
    "%%time\n",
    "samples = model.sample(50000)"
   ]
  },
  {
   "cell_type": "code",
   "execution_count": null,
   "id": "1bd11013-394f-4afd-9a16-799409649f65",
   "metadata": {},
   "outputs": [],
   "source": [
    "%%time\n",
    "samples.to_csv('../data_new/' + dataset + '_ctgan.csv', index=False)"
   ]
  },
  {
   "cell_type": "code",
   "execution_count": null,
   "id": "0d71a6b7-efcd-4616-8b87-051239724783",
   "metadata": {},
   "outputs": [],
   "source": []
  },
  {
   "cell_type": "code",
   "execution_count": null,
   "id": "47d415af-3d8f-484b-863a-28802e893531",
   "metadata": {},
   "outputs": [],
   "source": []
  },
  {
   "cell_type": "code",
   "execution_count": null,
   "id": "928e92e1-f7a5-41ae-954a-226d84a4f00c",
   "metadata": {},
   "outputs": [],
   "source": []
  },
  {
   "cell_type": "code",
   "execution_count": null,
   "id": "18eded53-61a2-4455-938d-c6b6b9c29063",
   "metadata": {},
   "outputs": [],
   "source": []
  },
  {
   "cell_type": "code",
   "execution_count": null,
   "id": "b4c9aa95-0905-4d69-81da-be5d480deea7",
   "metadata": {},
   "outputs": [],
   "source": []
  },
  {
   "cell_type": "code",
   "execution_count": null,
   "id": "bc1124e8-427f-4035-8144-5b097d7f63a5",
   "metadata": {},
   "outputs": [],
   "source": []
  },
  {
   "cell_type": "code",
   "execution_count": null,
   "id": "c44cd93b-b994-4d16-bf9a-0fd59862f63a",
   "metadata": {},
   "outputs": [],
   "source": []
  },
  {
   "cell_type": "code",
   "execution_count": 29,
   "id": "7e93004e-a520-4e6d-a5b3-79c01992d58a",
   "metadata": {
    "tags": []
   },
   "outputs": [],
   "source": [
    "datasets = ['adult', 'marketing', 'online-shoppers', 'credit-default']"
   ]
  },
  {
   "cell_type": "code",
   "execution_count": 32,
   "id": "3d032e2c-67a5-4e26-a029-8c9cd89aaeb6",
   "metadata": {
    "tags": []
   },
   "outputs": [
    {
     "data": {
      "text/plain": [
       "LIMIT_BAL                     float64\n",
       "SEX                             int64\n",
       "EDUCATION                       int64\n",
       "MARRIAGE                        int64\n",
       "AGE                             int64\n",
       "PAY_0                           int64\n",
       "PAY_2                           int64\n",
       "PAY_3                           int64\n",
       "PAY_4                           int64\n",
       "PAY_5                           int64\n",
       "PAY_6                           int64\n",
       "BILL_AMT1                       int64\n",
       "BILL_AMT2                     float64\n",
       "BILL_AMT3                     float64\n",
       "BILL_AMT4                     float64\n",
       "BILL_AMT5                     float64\n",
       "BILL_AMT6                     float64\n",
       "PAY_AMT1                      float64\n",
       "PAY_AMT2                      float64\n",
       "PAY_AMT3                      float64\n",
       "PAY_AMT4                      float64\n",
       "PAY_AMT5                      float64\n",
       "PAY_AMT6                      float64\n",
       "default payment next month      int64\n",
       "dtype: object"
      ]
     },
     "execution_count": 32,
     "metadata": {},
     "output_type": "execute_result"
    }
   ],
   "source": [
    "data = pd.read_csv('../data/credit-default_trn.csv.gz')\n",
    "data.dtypes"
   ]
  },
  {
   "cell_type": "code",
   "execution_count": 33,
   "id": "abdf5ceb-e965-4df1-9111-3a2dbea29df3",
   "metadata": {
    "tags": []
   },
   "outputs": [],
   "source": [
    "data = data.astype({'SEX': 'object', 'EDUCATION': 'object', 'MARRIAGE': 'object'})"
   ]
  },
  {
   "cell_type": "code",
   "execution_count": 36,
   "id": "f33cdd99-5061-41f5-b8cd-99d73a7526c4",
   "metadata": {
    "tags": []
   },
   "outputs": [
    {
     "data": {
      "text/plain": [
       "LIMIT_BAL                     float64\n",
       "SEX                            object\n",
       "EDUCATION                      object\n",
       "MARRIAGE                       object\n",
       "AGE                             int64\n",
       "PAY_0                           int64\n",
       "PAY_2                           int64\n",
       "PAY_3                           int64\n",
       "PAY_4                           int64\n",
       "PAY_5                           int64\n",
       "PAY_6                           int64\n",
       "BILL_AMT1                       int64\n",
       "BILL_AMT2                     float64\n",
       "BILL_AMT3                     float64\n",
       "BILL_AMT4                     float64\n",
       "BILL_AMT5                     float64\n",
       "BILL_AMT6                     float64\n",
       "PAY_AMT1                      float64\n",
       "PAY_AMT2                      float64\n",
       "PAY_AMT3                      float64\n",
       "PAY_AMT4                      float64\n",
       "PAY_AMT5                      float64\n",
       "PAY_AMT6                      float64\n",
       "default payment next month      int64\n",
       "dtype: object"
      ]
     },
     "execution_count": 36,
     "metadata": {},
     "output_type": "execute_result"
    }
   ],
   "source": [
    "data.dtypes"
   ]
  },
  {
   "cell_type": "code",
   "execution_count": 37,
   "id": "90df43c2-3e6a-4a74-abe2-7d37495780d1",
   "metadata": {
    "tags": []
   },
   "outputs": [],
   "source": [
    "metadata = SingleTableMetadata()\n",
    "metadata.detect_from_dataframe(data=data) "
   ]
  },
  {
   "cell_type": "code",
   "execution_count": 38,
   "id": "27759ca8-4d46-42d8-a6ef-598c6fc5b0ae",
   "metadata": {
    "tags": []
   },
   "outputs": [
    {
     "data": {
      "text/plain": [
       "{\n",
       "    \"columns\": {\n",
       "        \"LIMIT_BAL\": {\n",
       "            \"sdtype\": \"numerical\"\n",
       "        },\n",
       "        \"SEX\": {\n",
       "            \"sdtype\": \"numerical\"\n",
       "        },\n",
       "        \"EDUCATION\": {\n",
       "            \"sdtype\": \"numerical\"\n",
       "        },\n",
       "        \"MARRIAGE\": {\n",
       "            \"sdtype\": \"numerical\"\n",
       "        },\n",
       "        \"AGE\": {\n",
       "            \"sdtype\": \"numerical\"\n",
       "        },\n",
       "        \"PAY_0\": {\n",
       "            \"sdtype\": \"numerical\"\n",
       "        },\n",
       "        \"PAY_2\": {\n",
       "            \"sdtype\": \"numerical\"\n",
       "        },\n",
       "        \"PAY_3\": {\n",
       "            \"sdtype\": \"numerical\"\n",
       "        },\n",
       "        \"PAY_4\": {\n",
       "            \"sdtype\": \"numerical\"\n",
       "        },\n",
       "        \"PAY_5\": {\n",
       "            \"sdtype\": \"numerical\"\n",
       "        },\n",
       "        \"PAY_6\": {\n",
       "            \"sdtype\": \"numerical\"\n",
       "        },\n",
       "        \"BILL_AMT1\": {\n",
       "            \"sdtype\": \"numerical\"\n",
       "        },\n",
       "        \"BILL_AMT2\": {\n",
       "            \"sdtype\": \"numerical\"\n",
       "        },\n",
       "        \"BILL_AMT3\": {\n",
       "            \"sdtype\": \"numerical\"\n",
       "        },\n",
       "        \"BILL_AMT4\": {\n",
       "            \"sdtype\": \"numerical\"\n",
       "        },\n",
       "        \"BILL_AMT5\": {\n",
       "            \"sdtype\": \"numerical\"\n",
       "        },\n",
       "        \"BILL_AMT6\": {\n",
       "            \"sdtype\": \"numerical\"\n",
       "        },\n",
       "        \"PAY_AMT1\": {\n",
       "            \"sdtype\": \"numerical\"\n",
       "        },\n",
       "        \"PAY_AMT2\": {\n",
       "            \"sdtype\": \"numerical\"\n",
       "        },\n",
       "        \"PAY_AMT3\": {\n",
       "            \"sdtype\": \"numerical\"\n",
       "        },\n",
       "        \"PAY_AMT4\": {\n",
       "            \"sdtype\": \"numerical\"\n",
       "        },\n",
       "        \"PAY_AMT5\": {\n",
       "            \"sdtype\": \"numerical\"\n",
       "        },\n",
       "        \"PAY_AMT6\": {\n",
       "            \"sdtype\": \"numerical\"\n",
       "        },\n",
       "        \"default payment next month\": {\n",
       "            \"sdtype\": \"numerical\"\n",
       "        }\n",
       "    },\n",
       "    \"METADATA_SPEC_VERSION\": \"SINGLE_TABLE_V1\"\n",
       "}"
      ]
     },
     "execution_count": 38,
     "metadata": {},
     "output_type": "execute_result"
    }
   ],
   "source": [
    "metadata"
   ]
  },
  {
   "cell_type": "code",
   "execution_count": 40,
   "id": "25e355e0-c04b-43b1-af5b-8857aab5b285",
   "metadata": {
    "tags": []
   },
   "outputs": [],
   "source": [
    "# we need to set SEX, EDUCATION and MARRIAGE to categorical manually\n",
    "for col in ['SEX', 'EDUCATION', 'MARRIAGE']:\n",
    "    metadata.update_column(\n",
    "        column_name=col,\n",
    "        sdtype='categorical'\n",
    "    )"
   ]
  },
  {
   "cell_type": "code",
   "execution_count": 41,
   "id": "66be133a-9c3e-468b-9453-bca57cfa2d91",
   "metadata": {
    "collapsed": true,
    "jupyter": {
     "outputs_hidden": true
    },
    "tags": []
   },
   "outputs": [
    {
     "data": {
      "text/plain": [
       "{\n",
       "    \"columns\": {\n",
       "        \"LIMIT_BAL\": {\n",
       "            \"sdtype\": \"numerical\"\n",
       "        },\n",
       "        \"SEX\": {\n",
       "            \"sdtype\": \"categorical\"\n",
       "        },\n",
       "        \"EDUCATION\": {\n",
       "            \"sdtype\": \"categorical\"\n",
       "        },\n",
       "        \"MARRIAGE\": {\n",
       "            \"sdtype\": \"categorical\"\n",
       "        },\n",
       "        \"AGE\": {\n",
       "            \"sdtype\": \"numerical\"\n",
       "        },\n",
       "        \"PAY_0\": {\n",
       "            \"sdtype\": \"numerical\"\n",
       "        },\n",
       "        \"PAY_2\": {\n",
       "            \"sdtype\": \"numerical\"\n",
       "        },\n",
       "        \"PAY_3\": {\n",
       "            \"sdtype\": \"numerical\"\n",
       "        },\n",
       "        \"PAY_4\": {\n",
       "            \"sdtype\": \"numerical\"\n",
       "        },\n",
       "        \"PAY_5\": {\n",
       "            \"sdtype\": \"numerical\"\n",
       "        },\n",
       "        \"PAY_6\": {\n",
       "            \"sdtype\": \"numerical\"\n",
       "        },\n",
       "        \"BILL_AMT1\": {\n",
       "            \"sdtype\": \"numerical\"\n",
       "        },\n",
       "        \"BILL_AMT2\": {\n",
       "            \"sdtype\": \"numerical\"\n",
       "        },\n",
       "        \"BILL_AMT3\": {\n",
       "            \"sdtype\": \"numerical\"\n",
       "        },\n",
       "        \"BILL_AMT4\": {\n",
       "            \"sdtype\": \"numerical\"\n",
       "        },\n",
       "        \"BILL_AMT5\": {\n",
       "            \"sdtype\": \"numerical\"\n",
       "        },\n",
       "        \"BILL_AMT6\": {\n",
       "            \"sdtype\": \"numerical\"\n",
       "        },\n",
       "        \"PAY_AMT1\": {\n",
       "            \"sdtype\": \"numerical\"\n",
       "        },\n",
       "        \"PAY_AMT2\": {\n",
       "            \"sdtype\": \"numerical\"\n",
       "        },\n",
       "        \"PAY_AMT3\": {\n",
       "            \"sdtype\": \"numerical\"\n",
       "        },\n",
       "        \"PAY_AMT4\": {\n",
       "            \"sdtype\": \"numerical\"\n",
       "        },\n",
       "        \"PAY_AMT5\": {\n",
       "            \"sdtype\": \"numerical\"\n",
       "        },\n",
       "        \"PAY_AMT6\": {\n",
       "            \"sdtype\": \"numerical\"\n",
       "        },\n",
       "        \"default payment next month\": {\n",
       "            \"sdtype\": \"numerical\"\n",
       "        }\n",
       "    },\n",
       "    \"METADATA_SPEC_VERSION\": \"SINGLE_TABLE_V1\"\n",
       "}"
      ]
     },
     "execution_count": 41,
     "metadata": {},
     "output_type": "execute_result"
    }
   ],
   "source": [
    "metadata"
   ]
  },
  {
   "cell_type": "code",
   "execution_count": null,
   "id": "d9c16636-91e5-49a0-a02a-d615f00264b4",
   "metadata": {},
   "outputs": [],
   "source": [
    "%%time\n",
    "# generate all CTGAN synthetic datasets\n",
    "\n",
    "for dataset in datasets:\n",
    "    print('CTGAN ' + dataset)\n",
    "    np.random.seed(0)\n",
    "    torch.manual_seed(0)\n",
    "    data = pd.read_csv('../data/' + dataset + '_trn.csv.gz')\n",
    "# the SDV metadata generator overrides these dtypes\n",
    "#    if dataset == 'credit-default':\n",
    "#        data = data.astype({'SEX': 'object', 'EDUCATION': 'object', 'MARRIAGE': 'object'})\n",
    "    metadata = SingleTableMetadata()\n",
    "    metadata.detect_from_dataframe(data=data) \n",
    "    \n",
    "    if dataset == 'credit-default':\n",
    "        # we need to set SEX, EDUCATION and MARRIAGE to categorical manually here\n",
    "        for col in ['SEX', 'EDUCATION', 'MARRIAGE']:\n",
    "            metadata.update_column(\n",
    "                column_name=col,\n",
    "                sdtype='categorical'\n",
    "            )\n",
    "    \n",
    "    model = CTGANSynthesizer(metadata)\n",
    "    model.fit(data)\n",
    "    samples = model.sample(50000)\n",
    "    samples.to_csv('../data_new/' + dataset + '_ctgan.csv', index=False)"
   ]
  },
  {
   "cell_type": "code",
   "execution_count": null,
   "id": "0780d5bd-a56c-4941-b1d4-d4165975565e",
   "metadata": {},
   "outputs": [],
   "source": []
  },
  {
   "cell_type": "code",
   "execution_count": null,
   "id": "1cec7f6a-9dc3-42bc-b624-fa64a64f9a79",
   "metadata": {},
   "outputs": [],
   "source": []
  },
  {
   "cell_type": "code",
   "execution_count": null,
   "id": "15e667df-f784-4cb9-beb0-74d72af8cb17",
   "metadata": {},
   "outputs": [],
   "source": []
  },
  {
   "cell_type": "code",
   "execution_count": null,
   "id": "bb622d4d-d9d4-4598-b8d3-ef223a022c85",
   "metadata": {},
   "outputs": [],
   "source": []
  },
  {
   "cell_type": "code",
   "execution_count": null,
   "id": "03d64760-629a-4760-aac1-c4cb707eb3f5",
   "metadata": {},
   "outputs": [],
   "source": []
  }
 ],
 "metadata": {
  "kernelspec": {
   "display_name": "Python [conda env:sdv] *",
   "language": "python",
   "name": "conda-env-sdv-py"
  },
  "language_info": {
   "codemirror_mode": {
    "name": "ipython",
    "version": 3
   },
   "file_extension": ".py",
   "mimetype": "text/x-python",
   "name": "python",
   "nbconvert_exporter": "python",
   "pygments_lexer": "ipython3",
   "version": "3.10.10"
  }
 },
 "nbformat": 4,
 "nbformat_minor": 5
}
